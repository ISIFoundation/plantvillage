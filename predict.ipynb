{
 "cells": [
  {
   "cell_type": "code",
   "execution_count": 1,
   "metadata": {
    "collapsed": false
   },
   "outputs": [
    {
     "name": "stdout",
     "output_type": "stream",
     "text": [
      "Populating the interactive namespace from numpy and matplotlib\n"
     ]
    }
   ],
   "source": [
    "%pylab inline"
   ]
  },
  {
   "cell_type": "code",
   "execution_count": 2,
   "metadata": {
    "collapsed": true
   },
   "outputs": [],
   "source": [
    "import glob"
   ]
  },
  {
   "cell_type": "code",
   "execution_count": 3,
   "metadata": {
    "collapsed": true
   },
   "outputs": [],
   "source": [
    "caffe_root = \"/home/ubuntu/caffe/\"\n",
    "import sys\n",
    "sys.path.insert(0, caffe_root + 'python')"
   ]
  },
  {
   "cell_type": "code",
   "execution_count": 4,
   "metadata": {
    "collapsed": false
   },
   "outputs": [],
   "source": [
    "import caffe"
   ]
  },
  {
   "cell_type": "code",
   "execution_count": 5,
   "metadata": {
    "collapsed": false
   },
   "outputs": [],
   "source": [
    "# Set the right path to your model definition file, pretrained model weights,\n",
    "# and the image you would like to classify.\n",
    "#MODEL_FILE = '../model/GoogLeNet/deploy.prototxt'\n",
    "MODEL_FILE = 'model/GoogLeNet/deploy.prototxt'\n",
    "PRETRAINED = 'model/GoogLeNet/plantvillage.caffemodel'\n",
    "BINARY_PROTO_MEAN_FILE = \"lmdb/mean.binaryproto\"\n",
    "\n",
    "\"\"\"\n",
    "Replicated from https://github.com/BVLC/caffe/issues/290\n",
    "\"\"\"\n",
    "blob = caffe.proto.caffe_pb2.BlobProto()\n",
    "data = open( BINARY_PROTO_MEAN_FILE  , 'rb' ).read()\n",
    "blob.ParseFromString(data)\n",
    "mean_arr = np.array( caffe.io.blobproto_to_array(blob) )[0]\n",
    "\n",
    "\n",
    "##NOTE : If you do not have a GPU, you can uncomment the `set_mode_cpu()` call\n",
    "#        instead of the `set_mode_gpu` call.\n",
    "caffe.set_mode_gpu()\n",
    "#caffe.set_mode_cpu()\n",
    "\n",
    "\n",
    "net = caffe.Classifier(MODEL_FILE, PRETRAINED,\n",
    "                       #mean=mean_arr, #.mean(1).mean(1),\n",
    "                       channel_swap=(2,1,0),\n",
    "                       raw_scale=255,\n",
    "                       image_dims=(256, 256))"
   ]
  },
  {
   "cell_type": "raw",
   "metadata": {},
   "source": [
    "IMAGE_FILE = glob.glob(\"crowdai/c_%s/*.JPG\"%2)[0]\n",
    "input_image = caffe.io.load_image(IMAGE_FILE)\n",
    "plt.imshow(input_image)\n",
    "\n",
    "prediction = net.predict([input_image])\n",
    "print 'predicted class:', prediction[0].argmax()"
   ]
  },
  {
   "cell_type": "code",
   "execution_count": 7,
   "metadata": {
    "collapsed": false
   },
   "outputs": [
    {
     "name": "stdout",
     "output_type": "stream",
     "text": [
      "[0, 1, 2, 3, 4, 5, 6, 7, 8, 9, 10, 11, 12, 13, 14, 15, 16, 17, 18, 19, 20, 21, 22, 23, 24, 25, 26, 27, 28, 29, 30, 31, 32, 33, 34, 35, 36, 37]\n",
      "[0, 1, 2, 3, 4, 5, 6, 7, 8, 9, 10, 11, 12, 13, 14, 15, 16, 17, 18, 19, 20, 21, 22, 23, 24, 25, 26, 27, 28, 29, 30, 31, 32, 33, 34, 35, 36, 37]\n"
     ]
    }
   ],
   "source": [
    "input_images = []\n",
    "y = []\n",
    "for i in range(38):\n",
    "    files = glob.glob(\"crowdai/c_%s/*.JPG\"%i)\n",
    "    for file_name in files[:1]:\n",
    "        input_image = caffe.io.load_image(file_name)\n",
    "        input_images.append(input_image)\n",
    "        y.append(i)\n",
    "    \n",
    "prediction = net.predict(array(input_images))\n",
    "print y\n",
    "print list(prediction.argmax(axis=1))"
   ]
  },
  {
   "cell_type": "code",
   "execution_count": 8,
   "metadata": {
    "collapsed": true
   },
   "outputs": [],
   "source": [
    "for i, file_name in enumerate(glob.glob(\"./test/*.JPG\")):\n",
    "    input_image = caffe.io.load_image(file_name)[:256, :256, :]"
   ]
  },
  {
   "cell_type": "code",
   "execution_count": 80,
   "metadata": {
    "collapsed": false,
    "scrolled": true
   },
   "outputs": [
    {
     "name": "stdout",
     "output_type": "stream",
     "text": [
      "100\n",
      "200\n",
      "300\n",
      "400\n",
      "500\n",
      "600\n",
      "700\n",
      "800\n",
      "900\n",
      "1000\n",
      "1100\n",
      "1200\n",
      "1300\n",
      "1400\n",
      "1500\n",
      "1600\n",
      "1700\n",
      "1800\n",
      "1900\n",
      "2000\n",
      "2100\n",
      "2200\n",
      "2300\n",
      "2400\n",
      "2500\n",
      "2600\n",
      "2700\n",
      "2800\n",
      "2900\n",
      "3000\n",
      "3100\n",
      "3200\n",
      "3300\n",
      "3400\n",
      "3500\n",
      "3600\n",
      "3700\n",
      "3800\n",
      "3900\n",
      "4000\n",
      "4100\n",
      "4200\n",
      "4300\n",
      "4400\n",
      "4500\n",
      "4600\n",
      "4700\n",
      "4800\n",
      "4900\n",
      "5000\n",
      "5100\n",
      "5200\n",
      "5300\n",
      "5400\n",
      "5500\n",
      "5600\n",
      "5700\n",
      "5800\n",
      "5900\n",
      "6000\n",
      "6100\n",
      "6200\n",
      "6300\n",
      "6400\n",
      "6500\n",
      "6600\n",
      "6700\n",
      "6800\n",
      "6900\n",
      "7000\n",
      "7100\n",
      "7200\n",
      "7300\n",
      "7400\n",
      "7500\n",
      "7600\n",
      "7700\n",
      "7800\n",
      "7900\n",
      "8000\n",
      "8100\n",
      "8200\n",
      "8300\n",
      "8400\n",
      "8500\n",
      "8600\n",
      "8700\n",
      "8800\n",
      "8900\n",
      "9000\n",
      "9100\n",
      "9200\n",
      "9300\n",
      "9400\n",
      "9500\n",
      "9600\n",
      "9700\n",
      "9800\n",
      "9900\n",
      "10000\n",
      "10100\n",
      "10200\n",
      "10300\n",
      "10400\n",
      "10500\n",
      "10600\n",
      "10700\n",
      "10800\n",
      "10900\n",
      "11000\n",
      "11100\n",
      "11200\n",
      "11300\n",
      "11400\n",
      "11500\n",
      "11600\n",
      "11700\n",
      "11800\n",
      "11900\n",
      "12000\n",
      "12100\n",
      "12200\n",
      "12300\n",
      "12400\n",
      "12500\n",
      "12600\n",
      "12700\n",
      "12800\n",
      "12900\n",
      "13000\n",
      "13100\n",
      "13200\n",
      "13300\n",
      "13400\n",
      "13500\n",
      "13600\n",
      "13700\n",
      "13800\n",
      "13900\n",
      "14000\n",
      "14100\n",
      "14200\n",
      "14300\n",
      "14400\n",
      "14500\n",
      "14600\n",
      "14700\n",
      "14800\n",
      "14900\n",
      "15000\n",
      "15100\n",
      "15200\n",
      "15300\n",
      "15400\n",
      "15500\n",
      "15600\n",
      "15700\n",
      "15800\n",
      "15900\n",
      "16000\n",
      "16100\n",
      "16200\n",
      "16300\n",
      "16400\n",
      "16500\n",
      "16600\n",
      "16700\n",
      "16800\n",
      "16900\n",
      "17000\n",
      "17100\n",
      "17200\n",
      "17300\n",
      "17400\n",
      "17500\n",
      "17600\n",
      "17700\n",
      "17800\n",
      "17900\n",
      "18000\n",
      "18100\n",
      "18200\n",
      "18300\n",
      "18400\n",
      "18500\n",
      "18600\n",
      "18700\n",
      "18800\n",
      "18900\n",
      "19000\n",
      "19100\n",
      "19200\n",
      "19300\n",
      "19400\n",
      "19500\n",
      "19600\n",
      "19700\n",
      "19800\n",
      "19900\n",
      "20000\n",
      "20100\n",
      "20200\n",
      "20300\n",
      "20400\n",
      "20500\n",
      "20600\n",
      "20700\n",
      "20800\n",
      "20900\n",
      "21000\n",
      "21100\n",
      "21200\n",
      "21300\n",
      "21400\n",
      "21500\n",
      "21600\n",
      "21700\n",
      "21800\n",
      "21900\n",
      "22000\n",
      "22100\n",
      "22200\n",
      "22300\n",
      "22400\n",
      "22500\n",
      "22600\n",
      "22700\n",
      "22800\n",
      "22900\n",
      "23000\n",
      "23100\n",
      "23200\n",
      "23300\n",
      "23400\n",
      "23500\n",
      "23600\n",
      "23700\n",
      "23800\n",
      "23900\n",
      "24000\n",
      "24100\n",
      "24200\n",
      "24300\n",
      "24400\n",
      "24500\n",
      "24600\n",
      "24700\n",
      "24800\n",
      "24900\n",
      "25000\n",
      "25100\n",
      "25200\n",
      "25300\n",
      "25400\n",
      "25500\n",
      "25600\n",
      "25700\n",
      "25800\n",
      "25900\n",
      "26000\n",
      "26100\n",
      "26200\n",
      "26300\n",
      "26400\n",
      "26500\n",
      "26600\n",
      "26700\n",
      "26800\n",
      "26900\n",
      "27000\n",
      "27100\n",
      "27200\n",
      "27300\n",
      "27400\n",
      "27500\n",
      "27600\n",
      "27700\n",
      "27800\n",
      "27900\n",
      "28000\n",
      "28100\n",
      "28200\n",
      "28300\n",
      "28400\n",
      "28500\n",
      "28600\n",
      "28700\n",
      "28800\n",
      "28900\n",
      "29000\n",
      "29100\n",
      "29200\n",
      "29300\n",
      "29400\n",
      "29500\n",
      "29600\n",
      "29700\n",
      "29800\n",
      "29900\n",
      "30000\n",
      "30100\n",
      "30200\n",
      "30300\n",
      "30400\n",
      "30500\n",
      "30600\n",
      "30700\n",
      "30800\n",
      "30900\n",
      "31000\n",
      "31100\n",
      "31200\n",
      "31300\n",
      "31400\n",
      "31500\n",
      "31600\n",
      "31700\n",
      "31800\n",
      "31900\n",
      "32000\n",
      "32100\n",
      "32200\n",
      "32300\n",
      "32400\n"
     ]
    }
   ],
   "source": [
    "file_paths = glob.glob(\"./test/*\")\n",
    "file_names = []\n",
    "predictions = []\n",
    "\n",
    "n = 0\n",
    "step = 100\n",
    "while n < len(file_paths):\n",
    "    input_images = []\n",
    "    for file_path in file_paths[n:n+step]:\n",
    "        input_image = caffe.io.load_image(file_path)#[:256, :256, :]\n",
    "        input_images.append(input_image)\n",
    "        file_name = file_path.split(\"/\")[-1]\n",
    "        file_names.append(file_name)\n",
    "    \n",
    "    n += step\n",
    "    print n\n",
    "    pred = net.predict(array(input_images))\n",
    "    predictions.extend(pred)\n",
    "    assert len(file_names) == len(predictions)"
   ]
  },
  {
   "cell_type": "code",
   "execution_count": 81,
   "metadata": {
    "collapsed": true
   },
   "outputs": [],
   "source": [
    "header == \"filename,\" + \",\".join([\"c_%s\"%i for i in range(38) ]) + \"\\n\"\n",
    "\n",
    "with open(\"predict.csv\", \"w\") as f:\n",
    "    f.write(header)\n",
    "    for i, file_name in enumerate(file_names):\n",
    "        pred = predictions[i]\n",
    "        f.write(file_name+\",\"+ \",\".join([\"{:.8f}\".format(v).rstrip('0').rstrip('.') for v in pred]) + \"\\n\")"
   ]
  },
  {
   "cell_type": "code",
   "execution_count": 82,
   "metadata": {
    "collapsed": false
   },
   "outputs": [
    {
     "name": "stdout",
     "output_type": "stream",
     "text": [
      "filename,c_0,c_1,c_2,c_3,c_4,c_5,c_6,c_7,c_8,c_9,c_10,c_11,c_12,c_13,c_14,c_15,c_16,c_17,c_18,c_19,c_20,c_21,c_22,c_23,c_24,c_25,c_26,c_27,c_28,c_29,c_30,c_31,c_32,c_33,c_34,c_35,c_36,c_37\r\n",
      "1b68cb1c4be48794fa1158868bbc15f7.jpg,0,0,0,0,0,0,0,0,0,0,0,0,0,0,0,0,0,0,0,0,0,0,0,0,0,0,0,0,0.99999797,0,0,0,0.00000004,0,0.00000197,0,0,0\r\n",
      "23a9c751e097c0bbd117f38c85a1fd2b.jpg,0.00014045,0,0.00000583,0,0,0,0,0,0,0.00000002,0,0,0,0,0,0,0.00020483,0,0,0,0,0,0,0,0,0.00000064,0,0,0.99961793,0.00000002,0.00000006,0,0.00002971,0,0,0.00000041,0,0\r\n",
      "19a8494ca5d798d364134ef01c60c69d.jpg,0,0,0,0,0,0,0,0,0,0,0,0.45402312,0.54597682,0,0,0,0,0,0,0,0,0,0,0,0,0,0.00000001,0,0,0,0,0,0,0,0,0,0,0\r\n",
      "d6ea99fc916ecb4d98093a8ed964ff2a.jpg,0,0,0,0.00004129,0.99995822,0.00000023,0,0,0,0,0,0,0,0,0,0.00000001,0,0,0,0,0,0.00000015,0,0,0.00000004,0,0,0,0,0,0,0,0,0,0,0,0,0\r\n"
     ]
    }
   ],
   "source": [
    "!head -n 5 predict.csv"
   ]
  },
  {
   "cell_type": "code",
   "execution_count": 83,
   "metadata": {
    "collapsed": true
   },
   "outputs": [],
   "source": [
    "a = array(predictions)"
   ]
  },
  {
   "cell_type": "code",
   "execution_count": 95,
   "metadata": {
    "collapsed": false
   },
   "outputs": [],
   "source": [
    "b = array([a[i, v] for i, v in enumerate(a.argmax(axis=1))])"
   ]
  },
  {
   "cell_type": "code",
   "execution_count": 98,
   "metadata": {
    "collapsed": false
   },
   "outputs": [
    {
     "data": {
      "text/plain": [
       "((32388,), (2625,), (218,))"
      ]
     },
     "execution_count": 98,
     "metadata": {},
     "output_type": "execute_result"
    }
   ],
   "source": [
    "b.shape, b[b<0.9].shape, b[b<0.5].shape"
   ]
  },
  {
   "cell_type": "code",
   "execution_count": null,
   "metadata": {
    "collapsed": true
   },
   "outputs": [],
   "source": []
  }
 ],
 "metadata": {
  "kernelspec": {
   "display_name": "Python 2",
   "language": "python",
   "name": "python2"
  },
  "language_info": {
   "codemirror_mode": {
    "name": "ipython",
    "version": 2
   },
   "file_extension": ".py",
   "mimetype": "text/x-python",
   "name": "python",
   "nbconvert_exporter": "python",
   "pygments_lexer": "ipython2",
   "version": "2.7.6"
  }
 },
 "nbformat": 4,
 "nbformat_minor": 0
}
